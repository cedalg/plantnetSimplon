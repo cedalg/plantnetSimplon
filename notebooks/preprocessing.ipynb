{
 "cells": [
  {
   "cell_type": "code",
   "execution_count": null,
   "metadata": {},
   "outputs": [],
   "source": [
    "# convert every image in every folder to gray \n",
    "\n",
    "# don't forget to do the preprocessing in the app for every new image to be fed to the model"
   ]
  },
  {
   "cell_type": "markdown",
   "metadata": {},
   "source": [
    "# Grayscale the images"
   ]
  },
  {
   "cell_type": "markdown",
   "metadata": {},
   "source": [
    "The raw data is provided in the **../training_data/raw** folder in 5 subfolders named after the plant name (image category). This data will be processed and the processed versions of the image files will be saved in the **../training_data/training** folder, retaining the same structure of subfolders for each category of image."
   ]
  },
  {
   "cell_type": "code",
   "execution_count": null,
   "metadata": {},
   "outputs": [],
   "source": [
    "src_folder = \"../utilities/training_data/raw\"\n",
    "train_folder = \"../utilities/training_data/training\""
   ]
  },
  {
   "cell_type": "markdown",
   "metadata": {},
   "source": [
    "The code below opens the main folder with the raw images as well as the subfolders, transforms every image to grayscale and saves it to the traing data subfolders. "
   ]
  },
  {
   "cell_type": "code",
   "execution_count": null,
   "metadata": {},
   "outputs": [],
   "source": [
    "import os\n",
    "import shutil\n",
    "import numpy as np\n",
    "import matplotlib.pyplot as plt\n",
    "from PIL import Image\n",
    "\n",
    "# Helper function to grayscale an image\n",
    "def rgb2gray(rgb_image):\n",
    "    # Separate the RGB channels\n",
    "    r, g, b = rgb[:,:,0], rgb[:,:,1], rgb[:,:,2]\n",
    "    # Transform every pixel to gray\n",
    "    gray_image = 0.2989 * r + 0.5870 * g + 0.1140 * b\n",
    "\n",
    "    return gray_image\n",
    "\n",
    "# Create the output folder if it doesn't already exist\n",
    "if os.path.exists(train_folder):\n",
    "    shutil.rmtree(train_folder)\n",
    "\n",
    "# Loop through each subfolder in the input folder\n",
    "for root, folders, files in os.walk(src_folder):\n",
    "    for sub_folder in folders:\n",
    "        print('processing folder ' + sub_folder)\n",
    "        # Create a matching subfolder in the output dir\n",
    "        save_folder = os.path.join(train_folder,sub_folder)\n",
    "        if not os.path.exists(save_folder):\n",
    "            os.makedirs(save_folder)\n",
    "        # Loop through the files in the subfolder\n",
    "        file_names = os.listdir(os.path.join(root,sub_folder))\n",
    "        for file_name in file_names:\n",
    "            # Open the file\n",
    "            file_path = os.path.join(root,sub_folder, file_name)\n",
    "            print(\"reading \" + file_path)\n",
    "            image = Image.open(file_path)\n",
    "            # Create a gray version and save it\n",
    "            gray_image = rgb2gray(image)\n",
    "            save_as = os.path.join(save_folder, file_name)\n",
    "            print(\"writing \" + save_as)\n",
    "            gray_image.save(save_as)"
   ]
  },
  {
   "cell_type": "markdown",
   "metadata": {},
   "source": [
    "Check the original and the resulting version of the first image in each subfolder."
   ]
  },
  {
   "cell_type": "code",
   "execution_count": null,
   "metadata": {},
   "outputs": [],
   "source": [
    "# Create a new figure\n",
    "fig = plt.figure(figsize=(12,12))\n",
    "\n",
    "# loop through the subfolders in the input directory\n",
    "image_num = 0\n",
    "for root, folders, filenames in os.walk(src_folder):\n",
    "    for folder in folders:\n",
    "        # Get the first image in the subfolder and add it to a plot that has two columns and row for each folder\n",
    "        file = os.listdir(os.path.join(root,folder))[0]\n",
    "        src_file = os.path.join(src_folder,folder, file)\n",
    "        src_image = Image.open(src_file)\n",
    "        image_num += 1\n",
    "        a=fig.add_subplot(len(folders), 2, image_num)\n",
    "        imgplot = plt.imshow(src_image)\n",
    "        a.set_title(folder)\n",
    "        # The next image is the grayscaled counterpart - load and plot it\n",
    "        gray_file = os.path.join(train_folder,folder, file)\n",
    "        gray_image = Image.open(gray_file)\n",
    "        image_num += 1\n",
    "        b=fig.add_subplot(len(folders), 2, image_num)\n",
    "        imgplot = plt.imshow(gray_image)\n",
    "        b.set_title('grayscale ' + folder)"
   ]
  }
 ],
 "metadata": {
  "kernelspec": {
   "display_name": "Python 3",
   "language": "python",
   "name": "python3"
  },
  "language_info": {
   "codemirror_mode": {
    "name": "ipython",
    "version": 3
   },
   "file_extension": ".py",
   "mimetype": "text/x-python",
   "name": "python",
   "nbconvert_exporter": "python",
   "pygments_lexer": "ipython3",
   "version": "3.7.6"
  }
 },
 "nbformat": 4,
 "nbformat_minor": 4
}