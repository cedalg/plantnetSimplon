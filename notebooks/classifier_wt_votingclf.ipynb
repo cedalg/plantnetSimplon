{
 "cells": [
  {
   "cell_type": "code",
   "execution_count": 16,
   "metadata": {},
   "outputs": [],
   "source": [
    "import os\n",
    "import cv2\n",
    "import numpy as np\n",
    "import pandas as pd\n",
    "import matplotlib.pyplot as plt\n",
    "\n",
    "from sklearn.model_selection import train_test_split\n",
    "\n",
    "from sklearn.preprocessing import StandardScaler\n",
    "from sklearn.decomposition import PCA\n",
    "\n",
    "from sklearn.ensemble import RandomForestClassifier\n",
    "from sklearn.linear_model import LogisticRegression\n",
    "from sklearn.svm import SVC\n",
    "from sklearn.neighbors import KNeighborsClassifier\n",
    "from sklearn.ensemble import VotingClassifier\n",
    "from sklearn.ensemble import StackingClassifier\n",
    "\n",
    "from sklearn.model_selection import cross_val_score\n",
    "from sklearn.model_selection import GridSearchCV\n",
    "\n",
    "from sklearn.metrics import classification_report\n",
    "from sklearn.metrics import accuracy_score\n",
    "from sklearn.metrics import confusion_matrix\n",
    "from sklearn.metrics import plot_confusion_matrix\n",
    "from sklearn.metrics import roc_auc_score\n",
    "from sklearn.preprocessing import LabelBinarizer\n",
    "\n",
    "from sklearn.pipeline import Pipeline\n",
    "# import pickle\n",
    "from sklearn.externals import joblib"
   ]
  },
  {
   "cell_type": "code",
   "execution_count": 3,
   "metadata": {},
   "outputs": [],
   "source": [
    "def prep_data (folder):\n",
    "    # iterate through folders, assembling feature, label, and classname data objects\n",
    "    class_id = 0\n",
    "    features = []\n",
    "    labels = np.array([])\n",
    "    classnames = []\n",
    "    for root, dirs, filenames in os.walk(folder):\n",
    "        for d in sorted(dirs):\n",
    "            print(\"Reading data from\", d)\n",
    "            # use the folder name as the class name for this label\n",
    "            classnames.append(d)\n",
    "            files = os.listdir(os.path.join(root,d))\n",
    "            for f in files:\n",
    "                # Load the image file\n",
    "                imgFile = os.path.join(root,d, f)\n",
    "                imag = cv2.imread(imgFile, 0)\n",
    "                if cv2.countNonZero(imag) <= 500:\n",
    "                    pass\n",
    "                else:\n",
    "                    img = plt.imread(imgFile)\n",
    "                    # The image array is a multidimensional numpy array\n",
    "                    # - flatten it to a single array of pixel values for scikit-learn\n",
    "                    # - and add it to the list of features\n",
    "                    features.append(img.ravel())\n",
    "\n",
    "                    # Add it to the numpy array of labels\n",
    "                    labels = np.append(labels, class_id )\n",
    "            class_id  += 1\n",
    "            \n",
    "    # convert the list of features into a numpy array\n",
    "    features = np.array(features)\n",
    "    \n",
    "    return features, labels, classnames"
   ]
  },
  {
   "cell_type": "code",
   "execution_count": 4,
   "metadata": {},
   "outputs": [],
   "source": [
    "#the images are in a folder named 'plantnetSimplon/training_data_/training'\n",
    "training_folder_name = \"../plantnetSimplon/training_data_/training\""
   ]
  },
  {
   "cell_type": "code",
   "execution_count": 5,
   "metadata": {},
   "outputs": [
    {
     "name": "stdout",
     "output_type": "stream",
     "text": [
      "Reading data from Cichorium_intybus_L\n",
      "Reading data from Leucanthemum_vulgare_(Vaill)_Lam\n",
      "Reading data from Malva_sylvestris_L\n",
      "Reading data from Papaver_rhoeas_L\n",
      "Reading data from Ranunculus_bulbosus_L\n",
      "3429 features\n",
      "3429 labels\n",
      "5 classes: ['Cichorium_intybus_L', 'Leucanthemum_vulgare_(Vaill)_Lam', 'Malva_sylvestris_L', 'Papaver_rhoeas_L', 'Ranunculus_bulbosus_L']\n"
     ]
    }
   ],
   "source": [
    "# prepare the image data\n",
    "features, labels, classnames = prep_data(training_folder_name)\n",
    "print(len(features), 'features')\n",
    "print(len(labels), 'labels')\n",
    "print(len(classnames), 'classes:', classnames)"
   ]
  },
  {
   "cell_type": "code",
   "execution_count": 6,
   "metadata": {},
   "outputs": [
    {
     "name": "stdout",
     "output_type": "stream",
     "text": [
      "Feature Shape: (3429, 67500)\n",
      "Labels Shape: (3429,)\n"
     ]
    }
   ],
   "source": [
    "print('Feature Shape:',features.shape)\n",
    "print('Labels Shape:',labels.shape)"
   ]
  },
  {
   "cell_type": "code",
   "execution_count": 7,
   "metadata": {},
   "outputs": [
    {
     "name": "stdout",
     "output_type": "stream",
     "text": [
      "Training records: 2400\n",
      "Validation records: 1029\n"
     ]
    }
   ],
   "source": [
    "# split into training and testing sets\n",
    "X_train, X_val, y_train, y_val = train_test_split(features, labels, test_size=0.30, random_state=42)\n",
    "\n",
    "print('Training records:',y_train.size)\n",
    "print('Validation records:',y_val.size)"
   ]
  },
  {
   "cell_type": "code",
   "execution_count": 11,
   "metadata": {},
   "outputs": [],
   "source": [
    "# standardize features by removing the mean and scaling to unit variance\n",
    "X_train_float = X_train.astype('float64')\n",
    "X_val_float = X_val.astype('float64')\n",
    "\n",
    "scaler = StandardScaler()\n",
    "X_train_scaled = scaler.fit_transform(X_train_float)\n",
    "X_val_scaled = scaler.fit_transform(X_val_float)"
   ]
  },
  {
   "cell_type": "code",
   "execution_count": 82,
   "metadata": {},
   "outputs": [
    {
     "data": {
      "image/png": "[encoded data removed]",
      "text/plain": [
       "<Figure size 576x360 with 1 Axes>"
      ]
     },
     "metadata": {
      "needs_background": "light"
     },
     "output_type": "display_data"
    }
   ],
   "source": [
    "pca = PCA(n_components=300, svd_solver='randomized',\n",
    "          whiten=True).fit(X_train_scaled)\n",
    "\n",
    "pca_var = pca.explained_variance_ratio_\n",
    "pca_var_sum = np.cumsum(pca.explained_variance_ratio_)\n",
    "pcas = list(range(1, 301, 1))\n",
    "\n",
    "plt.figure(figsize=(8,5))\n",
    "plt.plot(pcas, pca_var, 'b-', linewidth=2, label = 'Variance')\n",
    "plt.plot(pcas, pca_var_sum, 'k-', linewidth=2, label = 'Cumulative variance')\n",
    "plt.title('Scree Plot')\n",
    "plt.xlabel('Principal Component')\n",
    "plt.ylabel('Eigenvalue')\n",
    "plt.legend()\n",
    "plt.show()"
   ]
  },
  {
   "cell_type": "code",
   "execution_count": 45,
   "metadata": {},
   "outputs": [],
   "source": [
    "def pca_cross_validation(X_train_scaled, y_train, n_components, predictor):        \n",
    "    d = {\"lr\" :LogisticRegression(), \n",
    "         \"rf\":RandomForestClassifier(),\n",
    "         \"svc\":SVC(),\n",
    "         \"knn\":KNeighborsClassifier()}\n",
    "    df = pd.DataFrame(index = n_components)\n",
    "    # iterate over PCAs\n",
    "    for component in n_components:\n",
    "        pca = PCA(n_components=component, svd_solver='randomized',whiten=True)\n",
    "        X_train_pca = pca.fit_transform(X_train_scaled)\n",
    "        df.loc[component,'explained variance'] = round(pca.explained_variance_ratio_.sum(),3)\n",
    "        # iterate over models for each PCA\n",
    "        for col, model in d.items():\n",
    "            cv_scores = cross_val_score(model, X_train_pca, y_train, cv=3, n_jobs = -1)\n",
    "            df.loc[component,'_'.join([col, 'mean'])] = round(cv_scores.mean(),3)\n",
    "            df.loc[component,'_'.join([col, 'std'])] =  round(cv_scores.std(),3)\n",
    "\n",
    "    return df"
   ]
  },
  {
   "cell_type": "code",
   "execution_count": 46,
   "metadata": {},
   "outputs": [
    {
     "data": {
      "text/html": [
       "<div>\n",
       "<style scoped>\n",
       "    .dataframe tbody tr th:only-of-type {\n",
       "        vertical-align: middle;\n",
       "    }\n",
       "\n",
       "    .dataframe tbody tr th {\n",
       "        vertical-align: top;\n",
       "    }\n",
       "\n",
       "    .dataframe thead th {\n",
       "        text-align: right;\n",
       "    }\n",
       "</style>\n",
       "<table border=\"1\" class=\"dataframe\">\n",
       "  <thead>\n",
       "    <tr style=\"text-align: right;\">\n",
       "      <th></th>\n",
       "      <th>explained variance</th>\n",
       "      <th>lr_mean</th>\n",
       "      <th>lr_std</th>\n",
       "      <th>rf_mean</th>\n",
       "      <th>rf_std</th>\n",
       "      <th>svc_mean</th>\n",
       "      <th>svc_std</th>\n",
       "      <th>knn_mean</th>\n",
       "      <th>knn_std</th>\n",
       "    </tr>\n",
       "  </thead>\n",
       "  <tbody>\n",
       "    <tr>\n",
       "      <th>100</th>\n",
       "      <td>0.689</td>\n",
       "      <td>0.836</td>\n",
       "      <td>0.012</td>\n",
       "      <td>0.700</td>\n",
       "      <td>0.014</td>\n",
       "      <td>0.738</td>\n",
       "      <td>0.023</td>\n",
       "      <td>0.571</td>\n",
       "      <td>0.014</td>\n",
       "    </tr>\n",
       "    <tr>\n",
       "      <th>150</th>\n",
       "      <td>0.740</td>\n",
       "      <td>0.805</td>\n",
       "      <td>0.007</td>\n",
       "      <td>0.674</td>\n",
       "      <td>0.017</td>\n",
       "      <td>0.707</td>\n",
       "      <td>0.014</td>\n",
       "      <td>0.547</td>\n",
       "      <td>0.014</td>\n",
       "    </tr>\n",
       "    <tr>\n",
       "      <th>200</th>\n",
       "      <td>0.776</td>\n",
       "      <td>0.768</td>\n",
       "      <td>0.011</td>\n",
       "      <td>0.677</td>\n",
       "      <td>0.009</td>\n",
       "      <td>0.668</td>\n",
       "      <td>0.007</td>\n",
       "      <td>0.528</td>\n",
       "      <td>0.017</td>\n",
       "    </tr>\n",
       "    <tr>\n",
       "      <th>250</th>\n",
       "      <td>0.804</td>\n",
       "      <td>0.751</td>\n",
       "      <td>0.006</td>\n",
       "      <td>0.655</td>\n",
       "      <td>0.011</td>\n",
       "      <td>0.650</td>\n",
       "      <td>0.011</td>\n",
       "      <td>0.495</td>\n",
       "      <td>0.012</td>\n",
       "    </tr>\n",
       "    <tr>\n",
       "      <th>300</th>\n",
       "      <td>0.827</td>\n",
       "      <td>0.713</td>\n",
       "      <td>0.007</td>\n",
       "      <td>0.644</td>\n",
       "      <td>0.018</td>\n",
       "      <td>0.624</td>\n",
       "      <td>0.016</td>\n",
       "      <td>0.474</td>\n",
       "      <td>0.018</td>\n",
       "    </tr>\n",
       "  </tbody>\n",
       "</table>\n",
       "</div>"
      ],
      "text/plain": [
       "     explained variance  lr_mean  lr_std  rf_mean  rf_std  svc_mean  svc_std  \\\n",
       "100               0.689    0.836   0.012    0.700   0.014     0.738    0.023   \n",
       "150               0.740    0.805   0.007    0.674   0.017     0.707    0.014   \n",
       "200               0.776    0.768   0.011    0.677   0.009     0.668    0.007   \n",
       "250               0.804    0.751   0.006    0.655   0.011     0.650    0.011   \n",
       "300               0.827    0.713   0.007    0.644   0.018     0.624    0.016   \n",
       "\n",
       "     knn_mean  knn_std  \n",
       "100     0.571    0.014  \n",
       "150     0.547    0.014  \n",
       "200     0.528    0.017  \n",
       "250     0.495    0.012  \n",
       "300     0.474    0.018  "
      ]
     },
     "execution_count": 46,
     "metadata": {},
     "output_type": "execute_result"
    }
   ],
   "source": [
    "# compare the cross-validation scores for different number of PCA components\n",
    "n_components = [100, 150, 200, 250, 300]\n",
    "predictor = [LogisticRegression(), RandomForestClassifier(), SVC(), KNeighborsClassifier()]\n",
    "\n",
    "pca_cross_validation(X_train_scaled, y_train, n_components, predictor)"
   ]
  },
  {
   "cell_type": "code",
   "execution_count": 47,
   "metadata": {},
   "outputs": [],
   "source": [
    "# the optimal choice is the PCA with 150 components \n",
    "pca = PCA(n_components=150, svd_solver='randomized',\n",
    "          whiten=True).fit(X_train_scaled)\n",
    "\n",
    "X_train_pca = pca.transform(X_train_scaled)\n",
    "X_val_pca = pca.transform(X_val_scaled)"
   ]
  },
  {
   "cell_type": "code",
   "execution_count": 48,
   "metadata": {},
   "outputs": [],
   "source": [
    "def fine_tune_predictor(predictor, grid):\n",
    "    predictor_cv = GridSearchCV(predictor, grid, cv=3)\n",
    "    predictor_cv.fit(X_train_pca, y_train)\n",
    "    print(\"Tuned hpyerparameters :(best parameters) \", predictor_cv.best_params_)\n",
    "    print(\"Accuracy :\",predictor_cv.best_score_)"
   ]
  },
  {
   "cell_type": "code",
   "execution_count": 49,
   "metadata": {},
   "outputs": [],
   "source": [
    "parameters_svm = {'C':[1, 10, 100], 'gamma':[0.0001, 0.001, 0.01, 0.1,'auto']}\n",
    "\n",
    "parameters_rf = {'n_estimators': [10, 50, 100], 'min_samples_leaf': [2,4], 'min_samples_split':[2,6], 'max_depth': [10, 50, 100]}\n",
    "\n",
    "parameters_lr = {'penalty': ['l1', 'l2'],'C':[0.001,0.01,1,10], 'solver':['liblinear', 'saga']}"
   ]
  },
  {
   "cell_type": "code",
   "execution_count": 50,
   "metadata": {},
   "outputs": [
    {
     "name": "stdout",
     "output_type": "stream",
     "text": [
      "Tuned hpyerparameters :(best parameters)  {'C': 10, 'gamma': 0.001}\n",
      "Accuracy : 0.7579166666666667\n"
     ]
    }
   ],
   "source": [
    "fine_tune_predictor(SVC(), parameters_svm)"
   ]
  },
  {
   "cell_type": "code",
   "execution_count": 51,
   "metadata": {},
   "outputs": [
    {
     "name": "stdout",
     "output_type": "stream",
     "text": [
      "Tuned hpyerparameters :(best parameters)  {'max_depth': 100, 'min_samples_leaf': 2, 'min_samples_split': 2, 'n_estimators': 100}\n",
      "Accuracy : 0.6924999999999999\n"
     ]
    }
   ],
   "source": [
    "fine_tune_predictor(RandomForestClassifier(n_jobs = -1), parameters_rf)"
   ]
  },
  {
   "cell_type": "code",
   "execution_count": 53,
   "metadata": {},
   "outputs": [
    {
     "name": "stdout",
     "output_type": "stream",
     "text": [
      "Tuned hpyerparameters :(best parameters)  {'C': 1, 'penalty': 'l1', 'solver': 'saga'}\n",
      "Accuracy : 0.8491666666666666\n"
     ]
    }
   ],
   "source": [
    "fine_tune_predictor(LogisticRegression(max_iter=10000), parameters_lr)"
   ]
  },
  {
   "cell_type": "code",
   "execution_count": 66,
   "metadata": {},
   "outputs": [],
   "source": [
    "svc_clf = SVC(C=10, gamma=0.001, kernel='rbf', probability=True, random_state=42)\n",
    "lr_clf = LogisticRegression(max_iter=10000, C=1, penalty='l1', solver='saga', random_state=42)\n",
    "rf_clf = RandomForestClassifier(n_jobs = -1, max_depth=100, min_samples_leaf=2,\n",
    "                                          min_samples_split=2, n_estimators=100, random_state=42)\n",
    "voting_clf = VotingClassifier(estimators=[('lr', lr_clf), ('svc', svc_clf)], voting='soft')\n",
    "stacking_clf = StackingClassifier(estimators=[('lr', lr_clf), ('svc', svc_clf)])"
   ]
  },
  {
   "cell_type": "code",
   "execution_count": 67,
   "metadata": {},
   "outputs": [
    {
     "name": "stdout",
     "output_type": "stream",
     "text": [
      "LogisticRegression 0.8726919339164237\n",
      "SVC 0.8202137998056366\n",
      "RandomForestClassifier 0.6977648202137998\n",
      "VotingClassifier 0.8785228377065112\n",
      "StackingClassifier 0.8726919339164237\n"
     ]
    }
   ],
   "source": [
    "# comparing the accuracy of individual estimators and ensemble models\n",
    "for clf in (lr_clf, svc_clf, rf_clf, voting_clf, stacking_clf):\n",
    "    clf.fit(X_train_pca, y_train)\n",
    "    y_pred = clf.predict(X_val_pca)\n",
    "    print(clf.__class__.__name__, accuracy_score(y_val, y_pred))"
   ]
  },
  {
   "cell_type": "code",
   "execution_count": 92,
   "metadata": {},
   "outputs": [
    {
     "name": "stdout",
     "output_type": "stream",
     "text": [
      "                                  precision    recall  f1-score   support\n",
      "\n",
      "             Cichorium_intybus_L       0.96      0.80      0.88       237\n",
      "Leucanthemum_vulgare_(Vaill)_Lam       0.85      0.85      0.85       210\n",
      "              Malva_sylvestris_L       0.80      0.91      0.85       210\n",
      "                Papaver_rhoeas_L       0.96      0.93      0.94       201\n",
      "           Ranunculus_bulbosus_L       0.84      0.92      0.87       171\n",
      "\n",
      "                        accuracy                           0.88      1029\n",
      "                       macro avg       0.88      0.88      0.88      1029\n",
      "                    weighted avg       0.89      0.88      0.88      1029\n",
      "\n"
     ]
    }
   ],
   "source": [
    "print(classification_report(y_val, y_pred_vt, target_names=classnames))"
   ]
  },
  {
   "cell_type": "code",
   "execution_count": null,
   "metadata": {},
   "outputs": [],
   "source": [
    "                                  precision    recall  f1-score   support\n",
    "\n",
    "             Cichorium_intybus_L       0.93      0.89      0.91       237\n",
    "Leucanthemum_vulgare_(Vaill)_Lam       0.83      0.84      0.84       210\n",
    "              Malva_sylvestris_L       0.85      0.89      0.87       210\n",
    "                Papaver_rhoeas_L       0.98      0.91      0.94       201\n",
    "           Ranunculus_bulbosus_L       0.83      0.89      0.86       171\n",
    "\n",
    "                        accuracy                           0.88      1029\n",
    "                       macro avg       0.88      0.88      0.88      1029\n",
    "                    weighted avg       0.89      0.88      0.88      1029"
   ]
  },
  {
   "cell_type": "code",
   "execution_count": 69,
   "metadata": {},
   "outputs": [
    {
     "data": {
      "text/plain": [
       "array([[190,  10,  32,   1,   4],\n",
       "       [  6, 179,   4,   0,  21],\n",
       "       [  1,   8, 191,   5,   5],\n",
       "       [  0,   3,  10, 187,   1],\n",
       "       [  0,  11,   1,   2, 157]], dtype=int64)"
      ]
     },
     "execution_count": 69,
     "metadata": {},
     "output_type": "execute_result"
    }
   ],
   "source": [
    "voting_clf.fit(X_train_pca, y_train)\n",
    "y_pred_vt = voting_clf.predict(X_val_pca)\n",
    "confusion_matrix(y_val, y_pred_vt)"
   ]
  },
  {
   "cell_type": "code",
   "execution_count": 81,
   "metadata": {},
   "outputs": [
    {
     "data": {
      "image/png": "[encoded data removed]",
      "text/plain": [
       "<Figure size 3600x360 with 2 Axes>"
      ]
     },
     "metadata": {
      "needs_background": "light"
     },
     "output_type": "display_data"
    }
   ],
   "source": [
    "disp = plot_confusion_matrix(voting_clf, X_val_pca, y_val,\n",
    "                             display_labels=classnames,\n",
    "                             cmap=plt.cm.Blues,\n",
    "                             normalize='true')\n",
    "disp.ax_.set_title(\"Normalized confusion matrix\")\n",
    "plt.show()"
   ]
  },
  {
   "cell_type": "code",
   "execution_count": 89,
   "metadata": {},
   "outputs": [],
   "source": [
    "def multiclass_roc_auc_score(y_val, y_pred_vt, average=\"macro\"):\n",
    "    lb = LabelBinarizer()\n",
    "    lb.fit(y_val)\n",
    "    y_val_b = lb.transform(y_val)\n",
    "    y_pred_vt_b = lb.transform(y_pred_vt)\n",
    "    return roc_auc_score(y_val_b, y_pred_vt_b, average=average)"
   ]
  },
  {
   "cell_type": "code",
   "execution_count": 90,
   "metadata": {},
   "outputs": [
    {
     "data": {
      "text/plain": [
       "0.9260979587118261"
      ]
     },
     "execution_count": 90,
     "metadata": {},
     "output_type": "execute_result"
    }
   ],
   "source": [
    "# evaluate the AUC ROC score\n",
    "multiclass_roc_auc_score(y_val, y_pred_vt)"
   ]
  },
  {
   "cell_type": "code",
   "execution_count": 93,
   "metadata": {},
   "outputs": [],
   "source": [
    "pickle.dump(voting_clf, open('plantnet_model.pkl','wb'))"
   ]
  },
  {
   "cell_type": "code",
   "execution_count": null,
   "metadata": {},
   "outputs": [],
   "source": []
  },
  {
   "cell_type": "code",
   "execution_count": 13,
   "metadata": {},
   "outputs": [
    {
     "data": {
      "text/plain": [
       "Pipeline(memory=None,\n",
       "         steps=[('scl',\n",
       "                 StandardScaler(copy=True, with_mean=True, with_std=True)),\n",
       "                ('pca',\n",
       "                 PCA(copy=True, iterated_power='auto', n_components=150,\n",
       "                     random_state=None, svd_solver='randomized', tol=0.0,\n",
       "                     whiten=True)),\n",
       "                ('voting_clf',\n",
       "                 VotingClassifier(estimators=[('lr',\n",
       "                                               LogisticRegression(C=1,\n",
       "                                                                  class_weight=None,\n",
       "                                                                  dual=False,\n",
       "                                                                  fit_intercept=True,\n",
       "                                                                  intercept_scali...\n",
       "                                                                  solver='saga',\n",
       "                                                                  tol=0.0001,\n",
       "                                                                  verbose=0,\n",
       "                                                                  warm_start=False)),\n",
       "                                              ('svc',\n",
       "                                               SVC(C=10, break_ties=False,\n",
       "                                                   cache_size=200,\n",
       "                                                   class_weight=None, coef0=0.0,\n",
       "                                                   decision_function_shape='ovr',\n",
       "                                                   degree=3, gamma=0.001,\n",
       "                                                   kernel='rbf', max_iter=-1,\n",
       "                                                   probability=True,\n",
       "                                                   random_state=42,\n",
       "                                                   shrinking=True, tol=0.001,\n",
       "                                                   verbose=False))],\n",
       "                                  flatten_transform=True, n_jobs=None,\n",
       "                                  voting='soft', weights=None))],\n",
       "         verbose=False)"
      ]
     },
     "execution_count": 13,
     "metadata": {},
     "output_type": "execute_result"
    }
   ],
   "source": [
    "steps = [('scl', StandardScaler()), ('pca', PCA(n_components=150, svd_solver='randomized',whiten=True)), ('voting_clf', VotingClassifier(estimators=[('lr', LogisticRegression(max_iter=10000,C=1, penalty='l1',solver='saga', random_state=42)), ('svc', SVC(C=10, gamma=0.001, kernel='rbf', probability=True, random_state=42))], voting='soft'))]\n",
    "\n",
    "pipe = Pipeline(steps)\n",
    "pipe.fit(X_train, y_train)"
   ]
  },
  {
   "cell_type": "code",
   "execution_count": 17,
   "metadata": {},
   "outputs": [
    {
     "data": {
      "text/plain": [
       "['pipeline_model.joblib']"
      ]
     },
     "execution_count": 17,
     "metadata": {},
     "output_type": "execute_result"
    }
   ],
   "source": [
    "joblib.dump(pipe, 'pipeline_model.joblib')"
   ]
  },
  {
   "cell_type": "code",
   "execution_count": null,
   "metadata": {},
   "outputs": [],
   "source": [
    "y_pred = pipe.predict(X_val)"
   ]
  },
  {
   "cell_type": "code",
   "execution_count": 11,
   "metadata": {},
   "outputs": [
    {
     "data": {
      "text/plain": [
       "array([[210,   9,  14,   0,   4],\n",
       "       [  8, 176,   5,   0,  21],\n",
       "       [  7,   9, 187,   2,   5],\n",
       "       [  0,   4,  14, 182,   1],\n",
       "       [  2,  13,   1,   2, 153]], dtype=int64)"
      ]
     },
     "execution_count": 11,
     "metadata": {},
     "output_type": "execute_result"
    }
   ],
   "source": [
    "confusion_matrix(y_val, y_pred)"
   ]
  },
  {
   "cell_type": "code",
   "execution_count": 12,
   "metadata": {},
   "outputs": [
    {
     "name": "stdout",
     "output_type": "stream",
     "text": [
      "                                  precision    recall  f1-score   support\n",
      "\n",
      "             Cichorium_intybus_L       0.93      0.89      0.91       237\n",
      "Leucanthemum_vulgare_(Vaill)_Lam       0.83      0.84      0.84       210\n",
      "              Malva_sylvestris_L       0.85      0.89      0.87       210\n",
      "                Papaver_rhoeas_L       0.98      0.91      0.94       201\n",
      "           Ranunculus_bulbosus_L       0.83      0.89      0.86       171\n",
      "\n",
      "                        accuracy                           0.88      1029\n",
      "                       macro avg       0.88      0.88      0.88      1029\n",
      "                    weighted avg       0.89      0.88      0.88      1029\n",
      "\n"
     ]
    }
   ],
   "source": [
    "print(classification_report(y_val, y_pred, target_names=classnames))"
   ]
  },
  {
   "cell_type": "code",
   "execution_count": null,
   "metadata": {},
   "outputs": [],
   "source": [
    "joblib.dump(grid.best_estimator_, 'filename.pkl', compress = 1)"
   ]
  },
  {
   "cell_type": "code",
   "execution_count": null,
   "metadata": {},
   "outputs": [],
   "source": []
  },
  {
   "cell_type": "code",
   "execution_count": null,
   "metadata": {},
   "outputs": [],
   "source": [
    "pipeline = Pipeline([\n",
    "      ('feature_selection', SelectKBest(chi2, k=2)),\n",
    "      ('classification', RandomForestClassifier())\n",
    "    ])\n",
    "\n",
    "pipeline.fit(iris.data, iris.target)\n",
    "\n",
    "# Export the classifier to a file\n",
    "joblib.dump(pipe, 'model.joblib')"
   ]
  },
  {
   "cell_type": "code",
   "execution_count": 18,
   "metadata": {},
   "outputs": [
    {
     "data": {
      "text/plain": [
       "(2400, 67500)"
      ]
     },
     "execution_count": 18,
     "metadata": {},
     "output_type": "execute_result"
    }
   ],
   "source": [
    "X_train.shape"
   ]
  },
  {
   "cell_type": "code",
   "execution_count": null,
   "metadata": {},
   "outputs": [],
   "source": []
  },
  {
   "cell_type": "code",
   "execution_count": null,
   "metadata": {},
   "outputs": [],
   "source": []
  },
  {
   "cell_type": "code",
   "execution_count": null,
   "metadata": {},
   "outputs": [],
   "source": []
  },
  {
   "cell_type": "code",
   "execution_count": null,
   "metadata": {},
   "outputs": [],
   "source": []
  },
  {
   "cell_type": "code",
   "execution_count": 94,
   "metadata": {},
   "outputs": [
    {
     "data": {
      "text/plain": [
       "(2400, 150)"
      ]
     },
     "execution_count": 94,
     "metadata": {},
     "output_type": "execute_result"
    }
   ],
   "source": [
    "X_train_pca.shape"
   ]
  },
  {
   "cell_type": "code",
   "execution_count": 95,
   "metadata": {},
   "outputs": [
    {
     "data": {
      "text/plain": [
       "(2400, 67500)"
      ]
     },
     "execution_count": 95,
     "metadata": {},
     "output_type": "execute_result"
    }
   ],
   "source": [
    "X_train.shape"
   ]
  },
  {
   "cell_type": "code",
   "execution_count": 97,
   "metadata": {},
   "outputs": [
    {
     "data": {
      "text/plain": [
       "(2400,)"
      ]
     },
     "execution_count": 97,
     "metadata": {},
     "output_type": "execute_result"
    }
   ],
   "source": [
    "y_train.shape"
   ]
  },
  {
   "cell_type": "code",
   "execution_count": 98,
   "metadata": {
    "collapsed": true,
    "jupyter": {
     "outputs_hidden": true
    }
   },
   "outputs": [
    {
     "data": {
      "text/plain": [
       "array([-4.17275766e-01, -8.81676956e-01,  6.29673799e-01,  2.28481094e-01,\n",
       "        2.68742020e-01,  9.54147821e-01,  8.39790128e-01, -1.51835913e+00,\n",
       "       -2.85659588e-01,  5.57671356e-01, -4.26193113e-01,  5.58927528e-01,\n",
       "        7.70968081e-02,  1.26412459e-01, -9.47905179e-01, -9.87759356e-01,\n",
       "       -1.25875526e-01, -6.01176050e-02, -6.58651782e-01,  1.58254152e-01,\n",
       "        8.34515172e-01,  9.16233575e-02, -1.16668795e+00,  6.19299644e-01,\n",
       "        3.94302592e-01, -3.22162435e-01, -1.95049617e-01,  6.69022620e-01,\n",
       "       -8.68806850e-01, -8.49743991e-01,  1.82429912e-01, -3.97717241e-04,\n",
       "        4.30370600e-01,  1.79535127e+00,  3.38980112e-01,  7.85269620e-01,\n",
       "        4.57229564e-01, -4.99057124e-01, -7.34358794e-01, -5.90655458e-01,\n",
       "        3.04472670e-01, -1.69789997e-01, -3.64350956e-01, -7.58699238e-01,\n",
       "       -3.33630883e-01,  6.82962665e-01, -6.37887383e-01,  2.33148352e-02,\n",
       "        9.30296786e-01, -9.42208801e-01,  2.07121293e-01,  2.74095608e-01,\n",
       "       -8.64624417e-01, -4.30627237e-01,  1.83940993e-01, -5.55347089e-01,\n",
       "        3.49502618e-01,  5.44745806e-01, -3.01473560e-01, -2.68620905e-01,\n",
       "       -6.74293302e-01,  1.00291666e-01, -4.17353145e-01,  8.41544417e-02,\n",
       "       -2.99252474e-01, -5.31116122e-02, -1.23015703e+00,  5.75014974e-01,\n",
       "       -2.21269934e-01, -9.30436390e-01,  1.65680437e-01, -1.31405563e-01,\n",
       "        4.32451482e-01,  1.48548612e-01, -4.76973424e-01, -3.92556077e-02,\n",
       "       -1.84739315e-01,  5.56909261e-01, -3.91293257e-01,  7.09571252e-01,\n",
       "       -4.27466299e-01,  2.27784211e-01,  2.79115453e-02,  8.91533911e-02,\n",
       "       -6.38032038e-02, -7.66889308e-02,  3.89330434e-01,  6.40881193e-02,\n",
       "       -6.31091340e-01,  5.94886584e-01,  2.18380421e-01,  7.47818361e-03,\n",
       "       -2.94165365e-01, -2.49157462e-01, -4.31156648e-01,  5.08407395e-01,\n",
       "       -1.09183382e-01,  2.19527850e-02, -3.33266025e-01,  1.57382540e-01,\n",
       "        4.09106308e-01,  8.28845842e-01, -2.63300191e-01,  1.37122529e+00,\n",
       "       -4.06273419e-01,  1.31971186e-01, -8.37838736e-02, -6.00090394e-01,\n",
       "       -4.77781676e-01, -2.18757821e-01, -2.64039290e-01, -7.47712146e-02,\n",
       "       -9.79471507e-01, -2.98148412e-01, -3.38326449e-01,  1.31767643e-01,\n",
       "        5.56911120e-01,  6.43376478e-02, -4.79135740e-01,  1.27770968e+00,\n",
       "        4.41868002e-01, -1.23280431e+00, -5.34169696e-01, -1.95188240e-01,\n",
       "        1.13607877e-01, -2.87476899e-01,  4.39710591e-01,  7.13197507e-01,\n",
       "       -1.25483995e+00, -8.35808335e-02,  1.18867760e-02,  2.28891207e-01,\n",
       "       -5.22436190e-01,  9.63271425e-01, -9.87201399e-01,  6.27261371e-01,\n",
       "        4.48872136e-01, -5.31089342e-01, -4.16609561e-01, -4.97317533e-01,\n",
       "       -4.30520680e-01, -3.37685766e-01,  6.55803133e-01, -1.83100318e-01,\n",
       "       -8.07417613e-01,  8.11087403e-02, -2.73330813e-01,  4.82254240e-01,\n",
       "        3.46753612e-01,  7.85235471e-01])"
      ]
     },
     "execution_count": 98,
     "metadata": {},
     "output_type": "execute_result"
    }
   ],
   "source": [
    "X_train_pca[0]"
   ]
  },
  {
   "cell_type": "code",
   "execution_count": 103,
   "metadata": {},
   "outputs": [
    {
     "ename": "MemoryError",
     "evalue": "Unable to allocate 33.9 GiB for an array with shape (67500, 67500) and data type float64",
     "output_type": "error",
     "traceback": [
      "\u001b[1;31m---------------------------------------------------------------------------\u001b[0m",
      "\u001b[1;31mMemoryError\u001b[0m                               Traceback (most recent call last)",
      "\u001b[1;32m<ipython-input-103-4872ac5a3917>\u001b[0m in \u001b[0;36m<module>\u001b[1;34m\u001b[0m\n\u001b[1;32m----> 1\u001b[1;33m \u001b[0mi\u001b[0m \u001b[1;33m=\u001b[0m \u001b[0mnp\u001b[0m\u001b[1;33m.\u001b[0m\u001b[0midentity\u001b[0m\u001b[1;33m(\u001b[0m\u001b[0mX_train_scaled\u001b[0m\u001b[1;33m.\u001b[0m\u001b[0mshape\u001b[0m\u001b[1;33m[\u001b[0m\u001b[1;36m1\u001b[0m\u001b[1;33m]\u001b[0m\u001b[1;33m)\u001b[0m\u001b[1;33m\u001b[0m\u001b[1;33m\u001b[0m\u001b[0m\n\u001b[0m",
      "\u001b[1;32m~\\anaconda3\\lib\\site-packages\\numpy\\core\\numeric.py\u001b[0m in \u001b[0;36midentity\u001b[1;34m(n, dtype)\u001b[0m\n\u001b[0;32m   2082\u001b[0m     \"\"\"\n\u001b[0;32m   2083\u001b[0m     \u001b[1;32mfrom\u001b[0m \u001b[0mnumpy\u001b[0m \u001b[1;32mimport\u001b[0m \u001b[0meye\u001b[0m\u001b[1;33m\u001b[0m\u001b[1;33m\u001b[0m\u001b[0m\n\u001b[1;32m-> 2084\u001b[1;33m     \u001b[1;32mreturn\u001b[0m \u001b[0meye\u001b[0m\u001b[1;33m(\u001b[0m\u001b[0mn\u001b[0m\u001b[1;33m,\u001b[0m \u001b[0mdtype\u001b[0m\u001b[1;33m=\u001b[0m\u001b[0mdtype\u001b[0m\u001b[1;33m)\u001b[0m\u001b[1;33m\u001b[0m\u001b[1;33m\u001b[0m\u001b[0m\n\u001b[0m\u001b[0;32m   2085\u001b[0m \u001b[1;33m\u001b[0m\u001b[0m\n\u001b[0;32m   2086\u001b[0m \u001b[1;33m\u001b[0m\u001b[0m\n",
      "\u001b[1;32m~\\anaconda3\\lib\\site-packages\\numpy\\lib\\twodim_base.py\u001b[0m in \u001b[0;36meye\u001b[1;34m(N, M, k, dtype, order)\u001b[0m\n\u001b[0;32m    199\u001b[0m     \u001b[1;32mif\u001b[0m \u001b[0mM\u001b[0m \u001b[1;32mis\u001b[0m \u001b[1;32mNone\u001b[0m\u001b[1;33m:\u001b[0m\u001b[1;33m\u001b[0m\u001b[1;33m\u001b[0m\u001b[0m\n\u001b[0;32m    200\u001b[0m         \u001b[0mM\u001b[0m \u001b[1;33m=\u001b[0m \u001b[0mN\u001b[0m\u001b[1;33m\u001b[0m\u001b[1;33m\u001b[0m\u001b[0m\n\u001b[1;32m--> 201\u001b[1;33m     \u001b[0mm\u001b[0m \u001b[1;33m=\u001b[0m \u001b[0mzeros\u001b[0m\u001b[1;33m(\u001b[0m\u001b[1;33m(\u001b[0m\u001b[0mN\u001b[0m\u001b[1;33m,\u001b[0m \u001b[0mM\u001b[0m\u001b[1;33m)\u001b[0m\u001b[1;33m,\u001b[0m \u001b[0mdtype\u001b[0m\u001b[1;33m=\u001b[0m\u001b[0mdtype\u001b[0m\u001b[1;33m,\u001b[0m \u001b[0morder\u001b[0m\u001b[1;33m=\u001b[0m\u001b[0morder\u001b[0m\u001b[1;33m)\u001b[0m\u001b[1;33m\u001b[0m\u001b[1;33m\u001b[0m\u001b[0m\n\u001b[0m\u001b[0;32m    202\u001b[0m     \u001b[1;32mif\u001b[0m \u001b[0mk\u001b[0m \u001b[1;33m>=\u001b[0m \u001b[0mM\u001b[0m\u001b[1;33m:\u001b[0m\u001b[1;33m\u001b[0m\u001b[1;33m\u001b[0m\u001b[0m\n\u001b[0;32m    203\u001b[0m         \u001b[1;32mreturn\u001b[0m \u001b[0mm\u001b[0m\u001b[1;33m\u001b[0m\u001b[1;33m\u001b[0m\u001b[0m\n",
      "\u001b[1;31mMemoryError\u001b[0m: Unable to allocate 33.9 GiB for an array with shape (67500, 67500) and data type float64"
     ]
    }
   ],
   "source": [
    "i = np.identity(X_train_scaled.shape[1])"
   ]
  },
  {
   "cell_type": "code",
   "execution_count": 104,
   "metadata": {},
   "outputs": [
    {
     "data": {
      "text/plain": [
       "67500"
      ]
     },
     "execution_count": 104,
     "metadata": {},
     "output_type": "execute_result"
    }
   ],
   "source": [
    "X_train_scaled.shape[1]"
   ]
  },
  {
   "cell_type": "code",
   "execution_count": 105,
   "metadata": {},
   "outputs": [
    {
     "ename": "MemoryError",
     "evalue": "Unable to allocate 33.9 GiB for an array with shape (67500, 67500) and data type float64",
     "output_type": "error",
     "traceback": [
      "\u001b[1;31m---------------------------------------------------------------------------\u001b[0m",
      "\u001b[1;31mMemoryError\u001b[0m                               Traceback (most recent call last)",
      "\u001b[1;32m<ipython-input-105-c67f43f5c9fa>\u001b[0m in \u001b[0;36m<module>\u001b[1;34m\u001b[0m\n\u001b[1;32m----> 1\u001b[1;33m \u001b[0mi\u001b[0m \u001b[1;33m=\u001b[0m \u001b[0mnp\u001b[0m\u001b[1;33m.\u001b[0m\u001b[0midentity\u001b[0m\u001b[1;33m(\u001b[0m\u001b[1;36m67500\u001b[0m\u001b[1;33m)\u001b[0m\u001b[1;33m\u001b[0m\u001b[1;33m\u001b[0m\u001b[0m\n\u001b[0m",
      "\u001b[1;32m~\\anaconda3\\lib\\site-packages\\numpy\\core\\numeric.py\u001b[0m in \u001b[0;36midentity\u001b[1;34m(n, dtype)\u001b[0m\n\u001b[0;32m   2082\u001b[0m     \"\"\"\n\u001b[0;32m   2083\u001b[0m     \u001b[1;32mfrom\u001b[0m \u001b[0mnumpy\u001b[0m \u001b[1;32mimport\u001b[0m \u001b[0meye\u001b[0m\u001b[1;33m\u001b[0m\u001b[1;33m\u001b[0m\u001b[0m\n\u001b[1;32m-> 2084\u001b[1;33m     \u001b[1;32mreturn\u001b[0m \u001b[0meye\u001b[0m\u001b[1;33m(\u001b[0m\u001b[0mn\u001b[0m\u001b[1;33m,\u001b[0m \u001b[0mdtype\u001b[0m\u001b[1;33m=\u001b[0m\u001b[0mdtype\u001b[0m\u001b[1;33m)\u001b[0m\u001b[1;33m\u001b[0m\u001b[1;33m\u001b[0m\u001b[0m\n\u001b[0m\u001b[0;32m   2085\u001b[0m \u001b[1;33m\u001b[0m\u001b[0m\n\u001b[0;32m   2086\u001b[0m \u001b[1;33m\u001b[0m\u001b[0m\n",
      "\u001b[1;32m~\\anaconda3\\lib\\site-packages\\numpy\\lib\\twodim_base.py\u001b[0m in \u001b[0;36meye\u001b[1;34m(N, M, k, dtype, order)\u001b[0m\n\u001b[0;32m    199\u001b[0m     \u001b[1;32mif\u001b[0m \u001b[0mM\u001b[0m \u001b[1;32mis\u001b[0m \u001b[1;32mNone\u001b[0m\u001b[1;33m:\u001b[0m\u001b[1;33m\u001b[0m\u001b[1;33m\u001b[0m\u001b[0m\n\u001b[0;32m    200\u001b[0m         \u001b[0mM\u001b[0m \u001b[1;33m=\u001b[0m \u001b[0mN\u001b[0m\u001b[1;33m\u001b[0m\u001b[1;33m\u001b[0m\u001b[0m\n\u001b[1;32m--> 201\u001b[1;33m     \u001b[0mm\u001b[0m \u001b[1;33m=\u001b[0m \u001b[0mzeros\u001b[0m\u001b[1;33m(\u001b[0m\u001b[1;33m(\u001b[0m\u001b[0mN\u001b[0m\u001b[1;33m,\u001b[0m \u001b[0mM\u001b[0m\u001b[1;33m)\u001b[0m\u001b[1;33m,\u001b[0m \u001b[0mdtype\u001b[0m\u001b[1;33m=\u001b[0m\u001b[0mdtype\u001b[0m\u001b[1;33m,\u001b[0m \u001b[0morder\u001b[0m\u001b[1;33m=\u001b[0m\u001b[0morder\u001b[0m\u001b[1;33m)\u001b[0m\u001b[1;33m\u001b[0m\u001b[1;33m\u001b[0m\u001b[0m\n\u001b[0m\u001b[0;32m    202\u001b[0m     \u001b[1;32mif\u001b[0m \u001b[0mk\u001b[0m \u001b[1;33m>=\u001b[0m \u001b[0mM\u001b[0m\u001b[1;33m:\u001b[0m\u001b[1;33m\u001b[0m\u001b[1;33m\u001b[0m\u001b[0m\n\u001b[0;32m    203\u001b[0m         \u001b[1;32mreturn\u001b[0m \u001b[0mm\u001b[0m\u001b[1;33m\u001b[0m\u001b[1;33m\u001b[0m\u001b[0m\n",
      "\u001b[1;31mMemoryError\u001b[0m: Unable to allocate 33.9 GiB for an array with shape (67500, 67500) and data type float64"
     ]
    }
   ],
   "source": [
    "i = np.identity(67500)"
   ]
  },
  {
   "cell_type": "code",
   "execution_count": 108,
   "metadata": {},
   "outputs": [
    {
     "ename": "MemoryError",
     "evalue": "Unable to allocate 33.9 GiB for an array with shape (67500, 67500) and data type float64",
     "output_type": "error",
     "traceback": [
      "\u001b[1;31m---------------------------------------------------------------------------\u001b[0m",
      "\u001b[1;31mMemoryError\u001b[0m                               Traceback (most recent call last)",
      "\u001b[1;32m<ipython-input-108-5095ae766f83>\u001b[0m in \u001b[0;36m<module>\u001b[1;34m\u001b[0m\n\u001b[1;32m----> 1\u001b[1;33m \u001b[0mpca\u001b[0m\u001b[1;33m.\u001b[0m\u001b[0mscore\u001b[0m\u001b[1;33m(\u001b[0m\u001b[0mX_train_scaled\u001b[0m\u001b[1;33m)\u001b[0m\u001b[1;33m\u001b[0m\u001b[1;33m\u001b[0m\u001b[0m\n\u001b[0m",
      "\u001b[1;32m~\\anaconda3\\lib\\site-packages\\sklearn\\decomposition\\_pca.py\u001b[0m in \u001b[0;36mscore\u001b[1;34m(self, X, y)\u001b[0m\n\u001b[0;32m    603\u001b[0m             \u001b[0mAverage\u001b[0m \u001b[0mlog\u001b[0m\u001b[1;33m-\u001b[0m\u001b[0mlikelihood\u001b[0m \u001b[0mof\u001b[0m \u001b[0mthe\u001b[0m \u001b[0msamples\u001b[0m \u001b[0munder\u001b[0m \u001b[0mthe\u001b[0m \u001b[0mcurrent\u001b[0m \u001b[0mmodel\u001b[0m\u001b[1;33m.\u001b[0m\u001b[1;33m\u001b[0m\u001b[1;33m\u001b[0m\u001b[0m\n\u001b[0;32m    604\u001b[0m         \"\"\"\n\u001b[1;32m--> 605\u001b[1;33m         \u001b[1;32mreturn\u001b[0m \u001b[0mnp\u001b[0m\u001b[1;33m.\u001b[0m\u001b[0mmean\u001b[0m\u001b[1;33m(\u001b[0m\u001b[0mself\u001b[0m\u001b[1;33m.\u001b[0m\u001b[0mscore_samples\u001b[0m\u001b[1;33m(\u001b[0m\u001b[0mX\u001b[0m\u001b[1;33m)\u001b[0m\u001b[1;33m)\u001b[0m\u001b[1;33m\u001b[0m\u001b[1;33m\u001b[0m\u001b[0m\n\u001b[0m",
      "\u001b[1;32m~\\anaconda3\\lib\\site-packages\\sklearn\\decomposition\\_pca.py\u001b[0m in \u001b[0;36mscore_samples\u001b[1;34m(self, X)\u001b[0m\n\u001b[0;32m    577\u001b[0m         \u001b[0mXr\u001b[0m \u001b[1;33m=\u001b[0m \u001b[0mX\u001b[0m \u001b[1;33m-\u001b[0m \u001b[0mself\u001b[0m\u001b[1;33m.\u001b[0m\u001b[0mmean_\u001b[0m\u001b[1;33m\u001b[0m\u001b[1;33m\u001b[0m\u001b[0m\n\u001b[0;32m    578\u001b[0m         \u001b[0mn_features\u001b[0m \u001b[1;33m=\u001b[0m \u001b[0mX\u001b[0m\u001b[1;33m.\u001b[0m\u001b[0mshape\u001b[0m\u001b[1;33m[\u001b[0m\u001b[1;36m1\u001b[0m\u001b[1;33m]\u001b[0m\u001b[1;33m\u001b[0m\u001b[1;33m\u001b[0m\u001b[0m\n\u001b[1;32m--> 579\u001b[1;33m         \u001b[0mprecision\u001b[0m \u001b[1;33m=\u001b[0m \u001b[0mself\u001b[0m\u001b[1;33m.\u001b[0m\u001b[0mget_precision\u001b[0m\u001b[1;33m(\u001b[0m\u001b[1;33m)\u001b[0m\u001b[1;33m\u001b[0m\u001b[1;33m\u001b[0m\u001b[0m\n\u001b[0m\u001b[0;32m    580\u001b[0m         \u001b[0mlog_like\u001b[0m \u001b[1;33m=\u001b[0m \u001b[1;33m-\u001b[0m\u001b[1;36m.5\u001b[0m \u001b[1;33m*\u001b[0m \u001b[1;33m(\u001b[0m\u001b[0mXr\u001b[0m \u001b[1;33m*\u001b[0m \u001b[1;33m(\u001b[0m\u001b[0mnp\u001b[0m\u001b[1;33m.\u001b[0m\u001b[0mdot\u001b[0m\u001b[1;33m(\u001b[0m\u001b[0mXr\u001b[0m\u001b[1;33m,\u001b[0m \u001b[0mprecision\u001b[0m\u001b[1;33m)\u001b[0m\u001b[1;33m)\u001b[0m\u001b[1;33m)\u001b[0m\u001b[1;33m.\u001b[0m\u001b[0msum\u001b[0m\u001b[1;33m(\u001b[0m\u001b[0maxis\u001b[0m\u001b[1;33m=\u001b[0m\u001b[1;36m1\u001b[0m\u001b[1;33m)\u001b[0m\u001b[1;33m\u001b[0m\u001b[1;33m\u001b[0m\u001b[0m\n\u001b[0;32m    581\u001b[0m         log_like -= .5 * (n_features * log(2. * np.pi) -\n",
      "\u001b[1;32m~\\anaconda3\\lib\\site-packages\\sklearn\\decomposition\\_base.py\u001b[0m in \u001b[0;36mget_precision\u001b[1;34m(self)\u001b[0m\n\u001b[0;32m     73\u001b[0m         \u001b[0mprecision\u001b[0m\u001b[1;33m.\u001b[0m\u001b[0mflat\u001b[0m\u001b[1;33m[\u001b[0m\u001b[1;33m:\u001b[0m\u001b[1;33m:\u001b[0m\u001b[0mlen\u001b[0m\u001b[1;33m(\u001b[0m\u001b[0mprecision\u001b[0m\u001b[1;33m)\u001b[0m \u001b[1;33m+\u001b[0m \u001b[1;36m1\u001b[0m\u001b[1;33m]\u001b[0m \u001b[1;33m+=\u001b[0m \u001b[1;36m1.\u001b[0m \u001b[1;33m/\u001b[0m \u001b[0mexp_var_diff\u001b[0m\u001b[1;33m\u001b[0m\u001b[1;33m\u001b[0m\u001b[0m\n\u001b[0;32m     74\u001b[0m         precision = np.dot(components_.T,\n\u001b[1;32m---> 75\u001b[1;33m                            np.dot(linalg.inv(precision), components_))\n\u001b[0m\u001b[0;32m     76\u001b[0m         \u001b[0mprecision\u001b[0m \u001b[1;33m/=\u001b[0m \u001b[1;33m-\u001b[0m\u001b[1;33m(\u001b[0m\u001b[0mself\u001b[0m\u001b[1;33m.\u001b[0m\u001b[0mnoise_variance_\u001b[0m \u001b[1;33m**\u001b[0m \u001b[1;36m2\u001b[0m\u001b[1;33m)\u001b[0m\u001b[1;33m\u001b[0m\u001b[1;33m\u001b[0m\u001b[0m\n\u001b[0;32m     77\u001b[0m         \u001b[0mprecision\u001b[0m\u001b[1;33m.\u001b[0m\u001b[0mflat\u001b[0m\u001b[1;33m[\u001b[0m\u001b[1;33m:\u001b[0m\u001b[1;33m:\u001b[0m\u001b[0mlen\u001b[0m\u001b[1;33m(\u001b[0m\u001b[0mprecision\u001b[0m\u001b[1;33m)\u001b[0m \u001b[1;33m+\u001b[0m \u001b[1;36m1\u001b[0m\u001b[1;33m]\u001b[0m \u001b[1;33m+=\u001b[0m \u001b[1;36m1.\u001b[0m \u001b[1;33m/\u001b[0m \u001b[0mself\u001b[0m\u001b[1;33m.\u001b[0m\u001b[0mnoise_variance_\u001b[0m\u001b[1;33m\u001b[0m\u001b[1;33m\u001b[0m\u001b[0m\n",
      "\u001b[1;32m<__array_function__ internals>\u001b[0m in \u001b[0;36mdot\u001b[1;34m(*args, **kwargs)\u001b[0m\n",
      "\u001b[1;31mMemoryError\u001b[0m: Unable to allocate 33.9 GiB for an array with shape (67500, 67500) and data type float64"
     ]
    }
   ],
   "source": [
    "pca.score(X_train_scaled)"
   ]
  },
  {
   "cell_type": "code",
   "execution_count": null,
   "metadata": {},
   "outputs": [],
   "source": []
  }
 ],
 "metadata": {
  "kernelspec": {
   "display_name": "Python 3",
   "language": "python",
   "name": "python3"
  },
  "language_info": {
   "codemirror_mode": {
    "name": "ipython",
    "version": 3
   },
   "file_extension": ".py",
   "mimetype": "text/x-python",
   "name": "python",
   "nbconvert_exporter": "python",
   "pygments_lexer": "ipython3",
   "version": "3.7.6"
  }
 },
 "nbformat": 4,
 "nbformat_minor": 4
}
